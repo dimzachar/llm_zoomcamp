{
 "cells": [
  {
   "cell_type": "code",
   "execution_count": 1,
   "id": "a9eb38e4-f4a8-4e94-95e4-7a540ecdcd81",
   "metadata": {},
   "outputs": [],
   "source": [
    "import pandas as pd\n"
   ]
  },
  {
   "cell_type": "code",
   "execution_count": 2,
   "id": "74436c12-9140-44c1-8c35-59ac7823679b",
   "metadata": {},
   "outputs": [],
   "source": [
    "github_url = \"https://github.com/DataTalksClub/llm-zoomcamp/blob/main/04-monitoring/data/results-gpt4o-mini.csv\"\n",
    "url = f'{github_url}?raw=1'\n",
    "df = pd.read_csv(url)"
   ]
  },
  {
   "cell_type": "code",
   "execution_count": 3,
   "id": "a1435c60-0c83-4e13-9a3b-7f38f6fa6891",
   "metadata": {},
   "outputs": [],
   "source": [
    "df = df.iloc[:300]"
   ]
  },
  {
   "cell_type": "markdown",
   "id": "284c082a-6a9e-4f48-a3e7-30e973c6c3a0",
   "metadata": {},
   "source": [
    "**Q1**"
   ]
  },
  {
   "cell_type": "code",
   "execution_count": 4,
   "id": "b2d6f140-279d-454a-a746-1749e5ef7ee8",
   "metadata": {},
   "outputs": [
    {
     "name": "stderr",
     "output_type": "stream",
     "text": [
      "You try to use a model that was created with version 3.0.0.dev0, however, your version is 2.7.0. This might cause unexpected behavior or errors. In that case, try to update to the latest version.\n",
      "\n",
      "\n",
      "\n"
     ]
    }
   ],
   "source": [
    "from sentence_transformers import SentenceTransformer\n",
    "\n",
    "\n",
    "model_name = 'multi-qa-mpnet-base-dot-v1'\n",
    "embedding_model = SentenceTransformer(model_name)"
   ]
  },
  {
   "cell_type": "code",
   "execution_count": 7,
   "id": "04dee5ff-dc07-4a68-b174-0adc290678c4",
   "metadata": {},
   "outputs": [
    {
     "name": "stdout",
     "output_type": "stream",
     "text": [
      "You can sign up for the course by visiting the course page at [http://mlzoomcamp.com/](http://mlzoomcamp.com/).\n"
     ]
    }
   ],
   "source": [
    "answer_llm = df.iloc[0].answer_llm"
   ]
  },
  {
   "cell_type": "code",
   "execution_count": 8,
   "id": "c0245bd0-63a7-4df0-849b-452b23958a82",
   "metadata": {},
   "outputs": [
    {
     "name": "stdout",
     "output_type": "stream",
     "text": [
      "-0.42244655\n"
     ]
    }
   ],
   "source": [
    "embedding = embedding_model.encode(answer_llm)\n",
    "print(embedding[0])"
   ]
  },
  {
   "cell_type": "markdown",
   "id": "ee1aecd2-ecaf-442e-a2a7-fe715ddaff94",
   "metadata": {},
   "source": [
    "**Q2**"
   ]
  },
  {
   "cell_type": "code",
   "execution_count": 11,
   "id": "0b129aa9-be28-4dd7-9ba1-45f6de67ba02",
   "metadata": {},
   "outputs": [
    {
     "name": "stdout",
     "output_type": "stream",
     "text": [
      "Starting to compute dot products...\n"
     ]
    },
    {
     "name": "stderr",
     "output_type": "stream",
     "text": [
      "Processing records: 100%|███████████████████████████████████████████████████████████████████| 300/300 [02:22<00:00,  2.11it/s]"
     ]
    },
    {
     "name": "stdout",
     "output_type": "stream",
     "text": [
      "75th percentile of dot products: 31.67430877685547\n"
     ]
    },
    {
     "name": "stderr",
     "output_type": "stream",
     "text": [
      "\n"
     ]
    }
   ],
   "source": [
    "import numpy as np\n",
    "from tqdm import tqdm\n",
    "\n",
    "print(\"Starting to compute dot products...\")\n",
    "for index, row in tqdm(df.iterrows(), total=df.shape[0], desc=\"Processing records\"):\n",
    "\n",
    "    answer_llm = row['answer_llm']\n",
    "    answer_orig = row['answer_orig']\n",
    "    \n",
    "    embedding1 = embedding_model.encode(answer_llm)\n",
    "    embedding2 = embedding_model.encode(answer_orig)\n",
    "    \n",
    "    dot_product = np.dot(embedding1, embedding2)\n",
    "    \n",
    "    evaluations.append(dot_product)\n",
    "\n",
    "percentile_75 = np.percentile(evaluations, 75)\n",
    "print(f\"75th percentile of dot products: {percentile_75}\")"
   ]
  },
  {
   "cell_type": "markdown",
   "id": "34620f55-c5aa-4691-9d0b-1418dab1ffe4",
   "metadata": {},
   "source": [
    "**Q3**"
   ]
  },
  {
   "cell_type": "code",
   "execution_count": 13,
   "id": "1c7a7c9d-a62a-4764-96bd-2a3a1b869175",
   "metadata": {},
   "outputs": [],
   "source": [
    "def normalize_vector(v):\n",
    "    norm = np.sqrt((v * v).sum())\n",
    "    return v / norm"
   ]
  },
  {
   "cell_type": "code",
   "execution_count": 14,
   "id": "f4a3381f-9b20-4fc1-8813-01515d59416c",
   "metadata": {},
   "outputs": [],
   "source": [
    "def cosine_similarity(v1, v2):\n",
    "\n",
    "    v1_norm = normalize_vector(v1)\n",
    "    v2_norm = normalize_vector(v2)\n",
    "\n",
    "    return np.dot(v1_norm, v2_norm)"
   ]
  },
  {
   "cell_type": "code",
   "execution_count": 15,
   "id": "3bd59356-486a-4df6-a9cc-f49d32e3f08f",
   "metadata": {},
   "outputs": [
    {
     "name": "stdout",
     "output_type": "stream",
     "text": [
      "Starting to compute cosine similarities...\n"
     ]
    },
    {
     "name": "stderr",
     "output_type": "stream",
     "text": [
      "Processing records: 100%|███████████████████████████████████████████████████████████████████| 300/300 [02:20<00:00,  2.13it/s]"
     ]
    },
    {
     "name": "stdout",
     "output_type": "stream",
     "text": [
      "75th percentile of cosine similarities: 0.8362348973751068\n"
     ]
    },
    {
     "name": "stderr",
     "output_type": "stream",
     "text": [
      "\n"
     ]
    }
   ],
   "source": [
    "cosine_similarities = []\n",
    "\n",
    "print(\"Starting to compute cosine similarities...\")\n",
    "for index, row in tqdm(df.iterrows(), total=df.shape[0], desc=\"Processing records\"):\n",
    "\n",
    "    answer_llm = row['answer_llm']\n",
    "    answer_orig = row['answer_orig']\n",
    "    \n",
    "\n",
    "    embedding1 = embedding_model.encode(answer_llm)\n",
    "    embedding2 = embedding_model.encode(answer_orig)\n",
    "\n",
    "    cosine_sim = cosine_similarity(embedding1, embedding2)\n",
    "\n",
    "    cosine_similarities.append(cosine_sim)\n",
    "\n",
    "percentile_75_cosine = np.percentile(cosine_similarities, 75)\n",
    "print(f\"75th percentile of cosine similarities: {percentile_75_cosine}\")"
   ]
  },
  {
   "cell_type": "markdown",
   "id": "7d83acda-0d18-46f4-bcc5-43ccb8eddca1",
   "metadata": {},
   "source": [
    "**Q4**"
   ]
  },
  {
   "cell_type": "code",
   "execution_count": 19,
   "id": "fdf88547-43ce-44c9-9a16-d198a64671ab",
   "metadata": {},
   "outputs": [
    {
     "name": "stdout",
     "output_type": "stream",
     "text": [
      "{'rouge-1': {'r': 0.45454545454545453, 'p': 0.45454545454545453, 'f': 0.45454544954545456}, 'rouge-2': {'r': 0.21621621621621623, 'p': 0.21621621621621623, 'f': 0.21621621121621637}, 'rouge-l': {'r': 0.3939393939393939, 'p': 0.3939393939393939, 'f': 0.393939388939394}}\n",
      "0.45454544954545456\n"
     ]
    }
   ],
   "source": [
    "from rouge import Rouge\n",
    "\n",
    "rouge_scorer = Rouge()\n",
    "\n",
    "r = df.iloc[10]\n",
    "\n",
    "scores = rouge_scorer.get_scores(r['answer_llm'], r['answer_orig'])[0]\n",
    "print(scores)\n",
    "print(scores['rouge-1']['f'])"
   ]
  },
  {
   "cell_type": "markdown",
   "id": "c23a771a-cc05-4345-9168-a72e2ffa8193",
   "metadata": {},
   "source": [
    "**Q5**"
   ]
  },
  {
   "cell_type": "code",
   "execution_count": 20,
   "id": "5023895a-d40e-4efe-af9b-34a8e99c2d10",
   "metadata": {},
   "outputs": [
    {
     "data": {
      "text/plain": [
       "0.35490034990035496"
      ]
     },
     "execution_count": 20,
     "metadata": {},
     "output_type": "execute_result"
    }
   ],
   "source": [
    "rouge_1 = scores['rouge-1']['f']\n",
    "rouge_2 = scores['rouge-2']['f']\n",
    "rouge_l = scores['rouge-l']['f']\n",
    "\n",
    "rouge_avg = (rouge_1 + rouge_2 + rouge_l) / 3\n",
    "rouge_avg"
   ]
  },
  {
   "cell_type": "markdown",
   "id": "3711040e-8206-45da-98da-281699768bcf",
   "metadata": {},
   "source": [
    "**Q6**"
   ]
  },
  {
   "cell_type": "code",
   "execution_count": 26,
   "id": "e6bb066d-dbbc-4d44-8399-b01ccc7bbaab",
   "metadata": {},
   "outputs": [
    {
     "name": "stdout",
     "output_type": "stream",
     "text": [
      "0.20696501983423318\n"
     ]
    }
   ],
   "source": [
    "rouge_1_scores = []\n",
    "rouge_2_scores = []\n",
    "rouge_l_scores = []\n",
    "\n",
    "\n",
    "for index, row in df.iterrows():\n",
    "    \n",
    "    scores = rouge_scorer.get_scores(row['answer_llm'], row['answer_orig'])[0]\n",
    "    \n",
    "    rouge_1_scores.append(scores['rouge-1']['f'])\n",
    "    rouge_2_scores.append(scores['rouge-2']['f'])\n",
    "    rouge_l_scores.append(scores['rouge-l']['f'])\n",
    "\n",
    "\n",
    "# rouge_df = pd.DataFrame({\n",
    "#     'rouge-1': rouge_1_scores,\n",
    "#     'rouge-2': rouge_2_scores,\n",
    "#     'rouge-l': rouge_l_scores\n",
    "# })\n",
    "\n",
    "\n",
    "# rouge_df.to_csv('rouge_scores.csv', index=False)\n",
    "\n",
    "average_rouge_2 = np.mean(rouge_2_scores)\n",
    "print(average_rouge_2)"
   ]
  },
  {
   "cell_type": "code",
   "execution_count": null,
   "id": "0c05ed44-6a63-413a-b1a5-fa1ca42542dd",
   "metadata": {},
   "outputs": [],
   "source": []
  },
  {
   "cell_type": "code",
   "execution_count": null,
   "id": "fe136e1c-d973-4fb9-ad47-84fbe9085e70",
   "metadata": {},
   "outputs": [],
   "source": []
  }
 ],
 "metadata": {
  "kernelspec": {
   "display_name": "Python 3 (ipykernel)",
   "language": "python",
   "name": "python3"
  },
  "language_info": {
   "codemirror_mode": {
    "name": "ipython",
    "version": 3
   },
   "file_extension": ".py",
   "mimetype": "text/x-python",
   "name": "python",
   "nbconvert_exporter": "python",
   "pygments_lexer": "ipython3",
   "version": "3.10.13"
  }
 },
 "nbformat": 4,
 "nbformat_minor": 5
}
