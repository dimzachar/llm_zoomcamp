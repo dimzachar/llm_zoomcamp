{
 "cells": [
  {
   "cell_type": "code",
   "execution_count": 1,
   "id": "aeec5c06-26fc-45a6-9a2d-7e9e725079a8",
   "metadata": {},
   "outputs": [],
   "source": [
    "import polars as pl\n",
    "from datetime import datetime\n"
   ]
  },
  {
   "cell_type": "code",
   "execution_count": 2,
   "id": "fea5ceca-0089-4649-901b-9a97998e5ee9",
   "metadata": {},
   "outputs": [
    {
     "name": "stdout",
     "output_type": "stream",
     "text": [
      "shape: (5, 3)\n",
      "┌─────────────────────┬─────────┬──────────┐\n",
      "│ date                ┆ revenue ┆ expenses │\n",
      "│ ---                 ┆ ---     ┆ ---      │\n",
      "│ datetime[μs]        ┆ i64     ┆ i64      │\n",
      "╞═════════════════════╪═════════╪══════════╡\n",
      "│ 2024-07-01 00:00:00 ┆ 100     ┆ 80       │\n",
      "│ 2024-07-02 00:00:00 ┆ 150     ┆ 120      │\n",
      "│ 2024-07-03 00:00:00 ┆ 200     ┆ 160      │\n",
      "│ 2024-07-04 00:00:00 ┆ 250     ┆ 200      │\n",
      "│ 2024-07-05 00:00:00 ┆ 300     ┆ 240      │\n",
      "└─────────────────────┴─────────┴──────────┘\n"
     ]
    }
   ],
   "source": [
    "data = {\n",
    "    \"date\": [datetime(2024, 7, 1), datetime(2024, 7, 2), datetime(2024, 7, 3), datetime(2024, 7, 4), datetime(2024, 7, 5)],\n",
    "    \"revenue\": [100, 150, 200, 250, 300],\n",
    "    \"expenses\": [80, 120, 160, 200, 240]\n",
    "}\n",
    "\n",
    "df = pl.DataFrame(data)\n",
    "print(df)\n"
   ]
  },
  {
   "cell_type": "code",
   "execution_count": 3,
   "id": "15d63788-354b-4f5e-9bf6-9934682248b3",
   "metadata": {},
   "outputs": [
    {
     "name": "stdout",
     "output_type": "stream",
     "text": [
      "shape: (3, 3)\n",
      "┌─────────────────────┬─────────┬──────────┐\n",
      "│ date                ┆ revenue ┆ expenses │\n",
      "│ ---                 ┆ ---     ┆ ---      │\n",
      "│ datetime[μs]        ┆ i64     ┆ i64      │\n",
      "╞═════════════════════╪═════════╪══════════╡\n",
      "│ 2024-07-02 00:00:00 ┆ 150     ┆ 120      │\n",
      "│ 2024-07-03 00:00:00 ┆ 200     ┆ 160      │\n",
      "│ 2024-07-04 00:00:00 ┆ 250     ┆ 200      │\n",
      "└─────────────────────┴─────────┴──────────┘\n"
     ]
    }
   ],
   "source": [
    "# Filter Data\n",
    "filtered_df = df.filter(\n",
    "    pl.col(\"date\").is_between(datetime(2024, 7, 2), datetime(2024, 7, 4))\n",
    ")\n",
    "print(filtered_df)\n"
   ]
  },
  {
   "cell_type": "code",
   "execution_count": 4,
   "id": "1c90c195-62fc-4a0b-8abe-1a66e4892daf",
   "metadata": {},
   "outputs": [],
   "source": [
    "df_pandas = filtered_df.to_pandas()\n"
   ]
  },
  {
   "cell_type": "code",
   "execution_count": 5,
   "id": "5e7f4006-34f6-4c77-ab3f-9299ffd7486b",
   "metadata": {},
   "outputs": [],
   "source": [
    "from openai import OpenAI\n",
    "\n",
    "client = OpenAI(\n",
    "    base_url='http://localhost:11434/v1/',\n",
    "    api_key='ollama',\n",
    ")\n"
   ]
  },
  {
   "cell_type": "code",
   "execution_count": 6,
   "id": "8a069afa-f063-4800-be04-27074da116dc",
   "metadata": {},
   "outputs": [],
   "source": [
    "def build_prompt(df):\n",
    "    prompt = \"You are a financial data analyst. Analyze the financial data:\\n\"\n",
    "    for row in df.itertuples(index=True):\n",
    "        prompt += f\"Date: {row.date.strftime('%Y-%m-%d')}, Revenue: ${row.revenue}, Expenses: ${row.expenses}\\n\"\n",
    "    prompt += \"Predict the revenue and expenses for the next date.\"\n",
    "    return prompt"
   ]
  },
  {
   "cell_type": "code",
   "execution_count": 7,
   "id": "5bfe5f58-bdeb-45c6-853f-f92cf0a48d70",
   "metadata": {},
   "outputs": [],
   "source": [
    "def llm(prompt):\n",
    "    response = client.chat.completions.create(\n",
    "        model='phi3',\n",
    "        messages=[{\"role\": \"user\", \"content\": prompt}]\n",
    "    )\n",
    "    return response.choices[0].message.content\n"
   ]
  },
  {
   "cell_type": "code",
   "execution_count": 8,
   "id": "6419558f-dbd3-405c-8273-e51175df5518",
   "metadata": {},
   "outputs": [
    {
     "name": "stdout",
     "output_type": "stream",
     "text": [
      " To predict future financial data like revenue and expenses, we often use historical trends or patterns in the dataset. In this case, there seems to be a consistent daily increase of $50 in both Revenue and Expenses:\n",
      "\n",
      "- 2024-07-03 vs 2024-07-02 - +$50 (income & expense)\n",
      "\n",
      "- 2024-07-04 vs 2024-07-03 - +$50 (income & expense)\n",
      "\n",
      "Assuming that this trend continues, we can predict the revenue and expenses for the next date by adding $50 to each of them:\n",
      "Date: 2024-07-05, Revenue prediction : $300 , Expense prediction: $250\n"
     ]
    }
   ],
   "source": [
    "prompt = build_prompt(df_pandas)\n",
    "answer = llm(prompt)\n",
    "print(answer)"
   ]
  },
  {
   "cell_type": "code",
   "execution_count": null,
   "id": "e490e319-be37-41ac-82cc-101c646dd97a",
   "metadata": {},
   "outputs": [],
   "source": [
    "\n"
   ]
  }
 ],
 "metadata": {
  "kernelspec": {
   "display_name": "Python 3 (ipykernel)",
   "language": "python",
   "name": "python3"
  },
  "language_info": {
   "codemirror_mode": {
    "name": "ipython",
    "version": 3
   },
   "file_extension": ".py",
   "mimetype": "text/x-python",
   "name": "python",
   "nbconvert_exporter": "python",
   "pygments_lexer": "ipython3",
   "version": "3.10.13"
  }
 },
 "nbformat": 4,
 "nbformat_minor": 5
}
