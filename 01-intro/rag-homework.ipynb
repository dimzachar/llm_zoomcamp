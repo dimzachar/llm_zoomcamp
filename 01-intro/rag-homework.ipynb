{
 "cells": [
  {
   "cell_type": "code",
   "execution_count": 1,
   "id": "b2d6d01b-9555-451d-b30c-72b5b1cb4af9",
   "metadata": {},
   "outputs": [],
   "source": [
    "import json\n",
    "from openai import OpenAI\n",
    "from dotenv import load_dotenv\n",
    "import os\n",
    "import requests"
   ]
  },
  {
   "cell_type": "code",
   "execution_count": 2,
   "id": "87a6c5b4-7263-4d5b-af29-8217e2e3d99e",
   "metadata": {},
   "outputs": [],
   "source": [
    "# Load environment variables from .env file\n",
    "load_dotenv()\n",
    "\n",
    "# Get the API key from the environment variable\n",
    "api_key = os.getenv('OPENAI_API_KEY')\n",
    "\n",
    "# Initialize the OpenAI client with the API key\n",
    "client = OpenAI(api_key=api_key)"
   ]
  },
  {
   "cell_type": "code",
   "execution_count": 3,
   "id": "3991a903-5064-4f40-baf7-a597b28a6d6a",
   "metadata": {},
   "outputs": [],
   "source": [
    "# with open('documents.json', 'rt') as f_in:\n",
    "#     docs_raw = json.load(f_in)\n",
    "\n",
    "# documents = []\n",
    "# for course_dict in docs_raw:\n",
    "#     for doc in course_dict['documents']:\n",
    "#         doc['course'] = course_dict['course']\n",
    "#         documents.append(doc)\n"
   ]
  },
  {
   "cell_type": "code",
   "execution_count": 4,
   "id": "0ab3fe4e-c81a-4d97-81c6-8ec0f31d7084",
   "metadata": {},
   "outputs": [],
   "source": [
    "# Fetch the FAQ data\n",
    "docs_url = 'https://github.com/DataTalksClub/llm-zoomcamp/blob/main/01-intro/documents.json?raw=1'\n",
    "docs_response = requests.get(docs_url)\n",
    "documents_raw = docs_response.json()\n",
    "\n",
    "# Process the documents\n",
    "documents = []\n",
    "for course in documents_raw:\n",
    "    course_name = course['course']\n",
    "    for doc in course['documents']:\n",
    "        doc['course'] = course_name\n",
    "        documents.append(doc)"
   ]
  },
  {
   "cell_type": "code",
   "execution_count": 5,
   "id": "34f12b7e-7dcc-4877-9870-3f7cf9618167",
   "metadata": {},
   "outputs": [
    {
     "data": {
      "text/plain": [
       "{'text': \"The purpose of this document is to capture frequently asked technical questions\\nThe exact day and hour of the course will be 15th Jan 2024 at 17h00. The course will start with the first  “Office Hours'' live.1\\nSubscribe to course public Google Calendar (it works from Desktop only).\\nRegister before the course starts using this link.\\nJoin the course Telegram channel with announcements.\\nDon’t forget to register in DataTalks.Club's Slack and join the channel.\",\n",
       " 'section': 'General course-related questions',\n",
       " 'question': 'Course - When will the course start?',\n",
       " 'course': 'data-engineering-zoomcamp'}"
      ]
     },
     "execution_count": 5,
     "metadata": {},
     "output_type": "execute_result"
    }
   ],
   "source": [
    "documents[0]"
   ]
  },
  {
   "cell_type": "code",
   "execution_count": 6,
   "id": "5a7fa91c-24fb-4cf7-8379-31211557f365",
   "metadata": {},
   "outputs": [
    {
     "name": "stdout",
     "output_type": "stream",
     "text": [
      "{'name': 'f460ba3dbd41', 'cluster_name': 'docker-cluster', 'cluster_uuid': 'I0b-mWe_SIeGhn3MK910qg', 'version': {'number': '8.4.3', 'build_flavor': 'default', 'build_type': 'docker', 'build_hash': '42f05b9372a9a4a470db3b52817899b99a76ee73', 'build_date': '2022-10-04T07:17:24.662462378Z', 'build_snapshot': False, 'lucene_version': '9.3.0', 'minimum_wire_compatibility_version': '7.17.0', 'minimum_index_compatibility_version': '7.0.0'}, 'tagline': 'You Know, for Search'}\n",
      "Deleted index: course-questions\n"
     ]
    },
    {
     "data": {
      "text/plain": [
       "ObjectApiResponse({'acknowledged': True, 'shards_acknowledged': True, 'index': 'course-questions'})"
      ]
     },
     "execution_count": 6,
     "metadata": {},
     "output_type": "execute_result"
    }
   ],
   "source": [
    "from elasticsearch import Elasticsearch\n",
    "from elasticsearch.exceptions import NotFoundError\n",
    "\n",
    "es_client = Elasticsearch('http://localhost:9200') \n",
    "print(es_client.info())\n",
    "\n",
    "index_settings = {\n",
    "    \"settings\": {\n",
    "        \"number_of_shards\": 1,\n",
    "        \"number_of_replicas\": 0\n",
    "    },\n",
    "    \"mappings\": {\n",
    "        \"properties\": {\n",
    "            \"text\": {\"type\": \"text\"},\n",
    "            \"section\": {\"type\": \"text\"},\n",
    "            \"question\": {\"type\": \"text\"},\n",
    "            \"course\": {\"type\": \"keyword\"} \n",
    "        }\n",
    "    }\n",
    "}\n",
    "\n",
    "index_name = \"course-questions\"\n",
    "try:\n",
    "    response = es_client.indices.delete(index=index_name)\n",
    "    print(f\"Deleted index: {index_name}\")\n",
    "except NotFoundError:\n",
    "    print(f\"Index {index_name} not found, nothing to delete\")\n",
    "\n",
    "es_client.indices.create(index=index_name, body=index_settings)"
   ]
  },
  {
   "cell_type": "code",
   "execution_count": 7,
   "id": "8ae8dbdd-a1ea-45f6-a563-5568975f4c7e",
   "metadata": {},
   "outputs": [
    {
     "name": "stderr",
     "output_type": "stream",
     "text": [
      "/usr/local/python/3.10.13/lib/python3.10/site-packages/tqdm/auto.py:21: TqdmWarning: IProgress not found. Please update jupyter and ipywidgets. See https://ipywidgets.readthedocs.io/en/stable/user_install.html\n",
      "  from .autonotebook import tqdm as notebook_tqdm\n",
      "100%|████████████████████████████████████████████████████████████████████████████████████████████████████████| 948/948 [00:19<00:00, 47.95it/s]\n"
     ]
    }
   ],
   "source": [
    "from tqdm.auto import tqdm\n",
    "\n",
    "for doc in tqdm(documents):\n",
    "    es_client.index(index=index_name, document=doc)\n"
   ]
  },
  {
   "cell_type": "code",
   "execution_count": 8,
   "id": "cbc36fd9-3556-47d2-a022-3ec5ba59344c",
   "metadata": {},
   "outputs": [],
   "source": [
    "def elastic_search(query, size=5, course=None):\n",
    "    search_query = {\n",
    "        \"size\": size,\n",
    "        \"query\": {\n",
    "            \"bool\": {\n",
    "                \"must\": {\n",
    "                    \"multi_match\": {\n",
    "                        \"query\": query,\n",
    "                        \"fields\": [\"question^4\", \"text\"],\n",
    "                        \"type\": \"best_fields\"\n",
    "                    }\n",
    "                },\n",
    "                # \"filter\": {\n",
    "                #     \"term\": {\n",
    "                #         \"course\": \"data-engineering-zoomcamp\"\n",
    "                #     }\n",
    "                # }\n",
    "            }\n",
    "        }\n",
    "    }\n",
    "    if course:\n",
    "        search_query[\"query\"][\"bool\"][\"filter\"] = {\n",
    "            \"term\": {\n",
    "                \"course\": course\n",
    "            }\n",
    "        }\n",
    "\n",
    "    response = es_client.search(index=index_name, body=search_query)\n",
    "    \n",
    "    result_docs = []\n",
    "    \n",
    "    for hit in response['hits']['hits']:\n",
    "        result_docs.append(hit['_source'])\n",
    "\n",
    "    # Step 4: Extract the _score field from the top-ranking result\n",
    "    top_score = response['hits']['hits'][0]['_score']\n",
    "    print(\"The top-ranking result _score is:\", top_score)\n",
    "    \n",
    "    return result_docs"
   ]
  },
  {
   "cell_type": "code",
   "execution_count": 9,
   "id": "247d5bf9-e4bb-4e1f-9adb-bad34ae7946b",
   "metadata": {},
   "outputs": [],
   "source": [
    "query = 'How do I execute a command in a running docker container?'"
   ]
  },
  {
   "cell_type": "markdown",
   "id": "b4cd1c83-f08b-495d-aa5f-796c5326412a",
   "metadata": {},
   "source": [
    "**Q3**"
   ]
  },
  {
   "cell_type": "code",
   "execution_count": 24,
   "id": "72abff70-be44-47ea-b30f-01213c3636e6",
   "metadata": {},
   "outputs": [
    {
     "name": "stdout",
     "output_type": "stream",
     "text": [
      "The top-ranking result _score is: 84.050095\n",
      "[{'text': 'Launch the container image in interactive mode and overriding the entrypoint, so that it starts a bash command.\\ndocker run -it --entrypoint bash <image>\\nIf the container is already running, execute a command in the specific container:\\ndocker ps (find the container-id)\\ndocker exec -it <container-id> bash\\n(Marcos MJD)', 'section': '5. Deploying Machine Learning Models', 'question': 'How do I debug a docker container?', 'course': 'machine-learning-zoomcamp'}, {'text': 'In case running pgcli  locally causes issues or you do not want to install it locally you can use it running in a Docker container instead.\\nBelow the usage with values used in the videos of the course for:\\nnetwork name (docker network)\\npostgres related variables for pgcli\\nHostname\\nUsername\\nPort\\nDatabase name\\n$ docker run -it --rm --network pg-network ai2ys/dockerized-pgcli:4.0.1\\n175dd47cda07:/# pgcli -h pg-database -U root -p 5432 -d ny_taxi\\nPassword for root:\\nServer: PostgreSQL 16.1 (Debian 16.1-1.pgdg120+1)\\nVersion: 4.0.1\\nHome: http://pgcli.com\\nroot@pg-database:ny_taxi> \\\\dt\\n+--------+------------------+-------+-------+\\n| Schema | Name             | Type  | Owner |\\n|--------+------------------+-------+-------|\\n| public | yellow_taxi_data | table | root  |\\n+--------+------------------+-------+-------+\\nSELECT 1\\nTime: 0.009s\\nroot@pg-database:ny_taxi>', 'section': 'Module 1: Docker and Terraform', 'question': 'PGCLI - running in a Docker container', 'course': 'data-engineering-zoomcamp'}, {'text': 'If you are trying to run Flask gunicorn & MLFlow server from the same container, defining both in Dockerfile with CMD will only run MLFlow & not Flask.\\nSolution: Create separate shell script with server run commands, for eg:\\n> \\tscript1.sh\\n#!/bin/bash\\ngunicorn --bind=0.0.0.0:9696 predict:app\\nAnother script with e.g. MLFlow server:\\n>\\tscript2.sh\\n#!/bin/bash\\nmlflow server -h 0.0.0.0 -p 5000 --backend-store-uri=sqlite:///mlflow.db --default-artifact-root=g3://zc-bucket/mlruns/\\nCreate a wrapper script to run above 2 scripts:\\n>\\twrapper_script.sh\\n#!/bin/bash\\n# Start the first process\\n./script1.sh &\\n# Start the second process\\n./script2.sh &\\n# Wait for any process to exit\\nwait -n\\n# Exit with status of process that exited first\\nexit $?\\nGive executable permissions to all scripts:\\nchmod +x *.sh\\nNow we can define last line of Dockerfile as:\\n> \\tDockerfile\\nCMD ./wrapper_script.sh\\nDont forget to expose all ports defined by services!', 'section': 'Module 4: Deployment', 'question': 'Running multiple services in a Docker container', 'course': 'mlops-zoomcamp'}, {'text': \"You can copy files from your local machine into a Docker container using the docker cp command. Here's how to do it:\\nTo copy a file or directory from your local machine into a running Docker container, you can use the `docker cp command`. The basic syntax is as follows:\\ndocker cp /path/to/local/file_or_directory container_id:/path/in/container\\nHrithik Kumar Advani\", 'section': '5. Deploying Machine Learning Models', 'question': 'How do I copy files from my local machine to docker container?', 'course': 'machine-learning-zoomcamp'}, {'text': 'You can copy files from your local machine into a Docker container using the docker cp command. Here\\'s how to do it:\\nIn the Dockerfile, you can provide the folder containing the files that you want to copy over. The basic syntax is as follows:\\nCOPY [\"src/predict.py\", \"models/xgb_model.bin\", \"./\"]\\t\\t\\t\\t\\t\\t\\t\\t\\t\\t\\tGopakumar Gopinathan', 'section': '5. Deploying Machine Learning Models', 'question': 'How do I copy files from a different folder into docker container’s working directory?', 'course': 'machine-learning-zoomcamp'}]\n"
     ]
    }
   ],
   "source": [
    "results = elastic_search(query, 5, None)\n",
    "print(results)"
   ]
  },
  {
   "cell_type": "markdown",
   "id": "f7b74ad0-9899-4d5d-bd57-15a4c2a4f99e",
   "metadata": {},
   "source": [
    "**Q4**"
   ]
  },
  {
   "cell_type": "code",
   "execution_count": 11,
   "id": "626da631-50fd-4a58-add5-7b13a9466b94",
   "metadata": {},
   "outputs": [
    {
     "name": "stdout",
     "output_type": "stream",
     "text": [
      "The top-ranking result _score is: 84.050095\n",
      "[{'text': 'Launch the container image in interactive mode and overriding the entrypoint, so that it starts a bash command.\\ndocker run -it --entrypoint bash <image>\\nIf the container is already running, execute a command in the specific container:\\ndocker ps (find the container-id)\\ndocker exec -it <container-id> bash\\n(Marcos MJD)', 'section': '5. Deploying Machine Learning Models', 'question': 'How do I debug a docker container?', 'course': 'machine-learning-zoomcamp'}, {'text': \"You can copy files from your local machine into a Docker container using the docker cp command. Here's how to do it:\\nTo copy a file or directory from your local machine into a running Docker container, you can use the `docker cp command`. The basic syntax is as follows:\\ndocker cp /path/to/local/file_or_directory container_id:/path/in/container\\nHrithik Kumar Advani\", 'section': '5. Deploying Machine Learning Models', 'question': 'How do I copy files from my local machine to docker container?', 'course': 'machine-learning-zoomcamp'}, {'text': 'You can copy files from your local machine into a Docker container using the docker cp command. Here\\'s how to do it:\\nIn the Dockerfile, you can provide the folder containing the files that you want to copy over. The basic syntax is as follows:\\nCOPY [\"src/predict.py\", \"models/xgb_model.bin\", \"./\"]\\t\\t\\t\\t\\t\\t\\t\\t\\t\\t\\tGopakumar Gopinathan', 'section': '5. Deploying Machine Learning Models', 'question': 'How do I copy files from a different folder into docker container’s working directory?', 'course': 'machine-learning-zoomcamp'}]\n",
      "The third question returned by the search engine is: How do I copy files from a different folder into docker container’s working directory?\n"
     ]
    }
   ],
   "source": [
    "course = 'machine-learning-zoomcamp'\n",
    "size = 3\n",
    "\n",
    "# Perform the search\n",
    "results = elastic_search(query, size=size, course=course)\n",
    "print(results)\n",
    "# Check if we have at least 3 results and print the third question\n",
    "if len(results) >= 3:\n",
    "    third_question = results[2]['question']\n",
    "    print(\"The third question returned by the search engine is:\", third_question)\n",
    "else:\n",
    "    print(\"There are less than 3 results.\")\n"
   ]
  },
  {
   "cell_type": "code",
   "execution_count": 12,
   "id": "376af1fd-0373-41f5-bed1-a208ab266f2e",
   "metadata": {},
   "outputs": [
    {
     "name": "stdout",
     "output_type": "stream",
     "text": [
      "Rank 1: How do I debug a docker container?\n",
      "Rank 2: How do I copy files from my local machine to docker container?\n",
      "Rank 3: How do I copy files from a different folder into docker container’s working directory?\n",
      "\n",
      "The third question returned by the search engine is: How do I copy files from a different folder into docker container’s working directory?\n"
     ]
    }
   ],
   "source": [
    "# Check if we have at least 3 results and print all questions with ranks\n",
    "if results:\n",
    "    for i, result in enumerate(results):\n",
    "        print(f\"Rank {i+1}: {result['question']}\")\n",
    "    if len(results) >= 3:\n",
    "        third_question = results[2]['question']\n",
    "        print(\"\\nThe third question returned by the search engine is:\", third_question)\n",
    "    else:\n",
    "        print(\"\\nThere are less than 3 results.\")\n",
    "else:\n",
    "    print(\"No results found.\")"
   ]
  },
  {
   "cell_type": "markdown",
   "id": "2fbe4f22-8bc1-4570-aa75-86c29f57ef4c",
   "metadata": {},
   "source": [
    "**Q5**"
   ]
  },
  {
   "cell_type": "code",
   "execution_count": 13,
   "id": "264c4be8-79aa-45c5-9f2d-a9d56d1b02a6",
   "metadata": {},
   "outputs": [],
   "source": [
    "def build_prompt(query, search_results):\n",
    "    context_template = \"\"\"\n",
    "Q: {question}\n",
    "A: {text}\n",
    "\"\"\".strip()\n",
    "\n",
    "    context = \"\"\n",
    "    for doc in search_results:\n",
    "        context += context_template.format(question=doc['question'], text=doc['text']) + \"\\n\\n\"\n",
    "\n",
    "    prompt_template = \"\"\"\n",
    "You're a course teaching assistant. Answer the QUESTION based on the CONTEXT from the FAQ database.\n",
    "Use only the facts from the CONTEXT when answering the QUESTION.\n",
    "\n",
    "QUESTION: {question}\n",
    "\n",
    "CONTEXT:\n",
    "{context}\n",
    "\"\"\".strip()\n",
    "\n",
    "    prompt = prompt_template.format(question=query, context=context).strip()\n",
    "    return prompt, context\n"
   ]
  },
  {
   "cell_type": "code",
   "execution_count": 14,
   "id": "317cd4b2-f2f5-4a14-8433-38c63b5fad8e",
   "metadata": {},
   "outputs": [],
   "source": [
    "def rag(query, size=3, course=None):\n",
    "    search_results = elastic_search(query, size, course)\n",
    "    prompt, context = build_prompt(query, search_results)\n",
    "    return prompt, context"
   ]
  },
  {
   "cell_type": "code",
   "execution_count": 15,
   "id": "c981f9ff-7561-4d21-b2b1-f546ba060c1d",
   "metadata": {},
   "outputs": [
    {
     "name": "stdout",
     "output_type": "stream",
     "text": [
      "The top-ranking result _score is: 84.050095\n",
      "Prompt is: You're a course teaching assistant. Answer the QUESTION based on the CONTEXT from the FAQ database.\n",
      "Use only the facts from the CONTEXT when answering the QUESTION.\n",
      "\n",
      "QUESTION: How do I execute a command in a running docker container?\n",
      "\n",
      "CONTEXT:\n",
      "Q: How do I debug a docker container?\n",
      "A: Launch the container image in interactive mode and overriding the entrypoint, so that it starts a bash command.\n",
      "docker run -it --entrypoint bash <image>\n",
      "If the container is already running, execute a command in the specific container:\n",
      "docker ps (find the container-id)\n",
      "docker exec -it <container-id> bash\n",
      "(Marcos MJD)\n",
      "\n",
      "Q: How do I copy files from my local machine to docker container?\n",
      "A: You can copy files from your local machine into a Docker container using the docker cp command. Here's how to do it:\n",
      "To copy a file or directory from your local machine into a running Docker container, you can use the `docker cp command`. The basic syntax is as follows:\n",
      "docker cp /path/to/local/file_or_directory container_id:/path/in/container\n",
      "Hrithik Kumar Advani\n",
      "\n",
      "Q: How do I copy files from a different folder into docker container’s working directory?\n",
      "A: You can copy files from your local machine into a Docker container using the docker cp command. Here's how to do it:\n",
      "In the Dockerfile, you can provide the folder containing the files that you want to copy over. The basic syntax is as follows:\n",
      "COPY [\"src/predict.py\", \"models/xgb_model.bin\", \"./\"]\t\t\t\t\t\t\t\t\t\t\tGopakumar Gopinathan\n",
      "The length of the resulting prompt is: 1462\n"
     ]
    }
   ],
   "source": [
    "# Example usage to get the prompt length\n",
    "query = 'How do I execute a command in a running docker container?'\n",
    "course = 'machine-learning-zoomcamp'\n",
    "size = 3\n",
    "\n",
    "# Perform the search\n",
    "results = elastic_search(query, size=size, course=course)\n",
    "\n",
    "# Build the prompt using the search results\n",
    "prompt, context = build_prompt(query, results)\n",
    "print(\"Prompt is:\", prompt)\n",
    "\n",
    "# print(context)\n",
    "\n",
    "# Calculate the length of the prompt\n",
    "prompt_length = len(prompt)\n",
    "print(\"The length of the resulting prompt is:\", prompt_length)"
   ]
  },
  {
   "cell_type": "markdown",
   "id": "4315c3ff-af04-464f-a009-15742bc8d7e2",
   "metadata": {},
   "source": [
    "**Q6**"
   ]
  },
  {
   "cell_type": "code",
   "execution_count": 16,
   "id": "aed519b3-3d48-48b5-9dd2-499960e7c90e",
   "metadata": {},
   "outputs": [
    {
     "name": "stdout",
     "output_type": "stream",
     "text": [
      "Requirement already satisfied: tiktoken in /usr/local/python/3.10.13/lib/python3.10/site-packages (0.7.0)\n",
      "Requirement already satisfied: regex>=2022.1.18 in /usr/local/python/3.10.13/lib/python3.10/site-packages (from tiktoken) (2024.5.15)\n",
      "Requirement already satisfied: requests>=2.26.0 in /home/codespace/.local/lib/python3.10/site-packages (from tiktoken) (2.32.3)\n",
      "Requirement already satisfied: charset-normalizer<4,>=2 in /home/codespace/.local/lib/python3.10/site-packages (from requests>=2.26.0->tiktoken) (3.3.2)\n",
      "Requirement already satisfied: idna<4,>=2.5 in /home/codespace/.local/lib/python3.10/site-packages (from requests>=2.26.0->tiktoken) (3.7)\n",
      "Requirement already satisfied: urllib3<3,>=1.21.1 in /usr/local/python/3.10.13/lib/python3.10/site-packages (from requests>=2.26.0->tiktoken) (2.2.1)\n",
      "Requirement already satisfied: certifi>=2017.4.17 in /usr/local/python/3.10.13/lib/python3.10/site-packages (from requests>=2.26.0->tiktoken) (2024.6.2)\n"
     ]
    }
   ],
   "source": [
    "!pip install tiktoken"
   ]
  },
  {
   "cell_type": "code",
   "execution_count": 17,
   "id": "409d7a21-ae06-4371-be93-2b5f07dc5919",
   "metadata": {},
   "outputs": [],
   "source": [
    "import tiktoken"
   ]
  },
  {
   "cell_type": "code",
   "execution_count": 18,
   "id": "df3d0534-9f97-44a2-8e8c-557ffec4fd71",
   "metadata": {},
   "outputs": [
    {
     "name": "stdout",
     "output_type": "stream",
     "text": [
      "The number of tokens in the resulting prompt is: 322\n"
     ]
    }
   ],
   "source": [
    "encoding = tiktoken.encoding_for_model(\"gpt-4o\")\n",
    "tokens = encoding.encode(prompt)\n",
    "num_tokens = len(tokens)\n",
    "print(\"The number of tokens in the resulting prompt is:\", num_tokens)"
   ]
  },
  {
   "cell_type": "markdown",
   "id": "b4e7c236-68d7-4542-be65-bdcbf1e447c6",
   "metadata": {},
   "source": [
    "**Bonus**"
   ]
  },
  {
   "cell_type": "code",
   "execution_count": 19,
   "id": "1ded599c-48b5-4d15-afe6-3d14a118a347",
   "metadata": {},
   "outputs": [],
   "source": [
    "def llm(prompt):\n",
    "    response = client.chat.completions.create(\n",
    "        model='gpt-4o',\n",
    "        messages=[{\"role\": \"user\", \"content\": prompt}]\n",
    "    )\n",
    "    \n",
    "    return response.choices[0].message.content"
   ]
  },
  {
   "cell_type": "code",
   "execution_count": 20,
   "id": "14f864bd-a032-438d-8836-37530fe4a12e",
   "metadata": {},
   "outputs": [],
   "source": [
    "answer = llm(prompt)"
   ]
  },
  {
   "cell_type": "code",
   "execution_count": 21,
   "id": "e4f35d63-b1f0-4117-b219-5a8b598070e8",
   "metadata": {},
   "outputs": [
    {
     "name": "stdout",
     "output_type": "stream",
     "text": [
      "Output: To execute a command in a running Docker container, you need to use the `docker exec` command. Here are the steps:\n",
      "\n",
      "1. First, find the container ID of the running container by using the `docker ps` command.\n",
      "2. Once you have the container ID, you can use the following command to execute a bash shell inside the container:\n",
      "   ```bash\n",
      "   docker exec -it <container-id> bash\n",
      "   ```\n",
      "\n",
      "Replace `<container-id>` with the actual ID of your running container. This will open up an interactive terminal session within the container where you can execute commands.\n"
     ]
    }
   ],
   "source": [
    "print(\"Output:\", answer)"
   ]
  },
  {
   "cell_type": "code",
   "execution_count": 22,
   "id": "c87a24be-bc9f-49b7-a128-622a91630199",
   "metadata": {},
   "outputs": [
    {
     "name": "stdout",
     "output_type": "stream",
     "text": [
      "Total Input Tokens: 150000\n",
      "Total Output Tokens: 250000\n",
      "Cost for Input Tokens: $ 0.75\n",
      "Cost for Output Tokens: $ 3.75\n",
      "Total Cost for 1000 Requests: $ 4.5\n"
     ]
    }
   ],
   "source": [
    "# Given data\n",
    "input_tokens_per_request = 150\n",
    "output_tokens_per_request = 250\n",
    "number_of_requests = 1000\n",
    "price_per_1k_input_tokens = 0.005\n",
    "price_per_1k_output_tokens = 0.015\n",
    "\n",
    "# Total tokens\n",
    "total_input_tokens = input_tokens_per_request * number_of_requests\n",
    "total_output_tokens = output_tokens_per_request * number_of_requests\n",
    "\n",
    "# Cost calculation\n",
    "cost_for_input_tokens = (total_input_tokens / 1000) * price_per_1k_input_tokens\n",
    "cost_for_output_tokens = (total_output_tokens / 1000) * price_per_1k_output_tokens\n",
    "total_cost = cost_for_input_tokens + cost_for_output_tokens\n",
    "\n",
    "print(\"Total Input Tokens:\", total_input_tokens)\n",
    "print(\"Total Output Tokens:\", total_output_tokens)\n",
    "print(\"Cost for Input Tokens: $\", round(cost_for_input_tokens, 2))\n",
    "print(\"Cost for Output Tokens: $\", round(cost_for_output_tokens, 2))\n",
    "print(\"Total Cost for 1000 Requests: $\", round(total_cost, 2))\n"
   ]
  },
  {
   "cell_type": "code",
   "execution_count": 23,
   "id": "e71cb4c0-83fb-42dc-9886-e36230dfb669",
   "metadata": {},
   "outputs": [
    {
     "name": "stdout",
     "output_type": "stream",
     "text": [
      "Response from OpenAI:\n",
      "To execute a command in a running Docker container, you need to use the `docker exec` command. Here are the steps:\n",
      "\n",
      "1. First, find the container ID of the running container by using the `docker ps` command.\n",
      "2. Once you have the container ID, you can use the following command to execute a bash shell inside the container:\n",
      "   ```bash\n",
      "   docker exec -it <container-id> bash\n",
      "   ```\n",
      "\n",
      "Replace `<container-id>` with the actual ID of your running container. This will open up an interactive terminal session within the container where you can execute commands.\n",
      "The number of tokens in the response is: 120\n",
      "Total Input Tokens: 322000\n",
      "Total Output Tokens: 120000\n",
      "Cost for Input Tokens: $ 1.61\n",
      "Cost for Output Tokens: $ 1.8\n",
      "Total Cost for 1000 Requests: $ 3.41\n"
     ]
    }
   ],
   "source": [
    "# Print the response\n",
    "print(\"Response from OpenAI:\")\n",
    "print(answer)\n",
    "\n",
    "# Calculate the number of tokens in the response\n",
    "response_tokens = encoding.encode(answer)\n",
    "num_response_tokens = len(response_tokens)\n",
    "print(\"The number of tokens in the response is:\", num_response_tokens)\n",
    "\n",
    "# Given prices\n",
    "price_per_1k_input_tokens = 0.005\n",
    "price_per_1k_output_tokens = 0.015\n",
    "\n",
    "# Number of requests\n",
    "number_of_requests = 1000\n",
    "\n",
    "# Calculate costs\n",
    "total_input_tokens = num_tokens * number_of_requests\n",
    "total_output_tokens = num_response_tokens * number_of_requests\n",
    "\n",
    "cost_for_input_tokens = (total_input_tokens / 1000) * price_per_1k_input_tokens\n",
    "cost_for_output_tokens = (total_output_tokens / 1000) * price_per_1k_output_tokens\n",
    "total_cost = cost_for_input_tokens + cost_for_output_tokens\n",
    "\n",
    "print(\"Total Input Tokens:\", total_input_tokens)\n",
    "print(\"Total Output Tokens:\", total_output_tokens)\n",
    "print(\"Cost for Input Tokens: $\", round(cost_for_input_tokens, 2))\n",
    "print(\"Cost for Output Tokens: $\", round(cost_for_output_tokens, 2))\n",
    "print(\"Total Cost for 1000 Requests: $\", round(total_cost, 2))"
   ]
  },
  {
   "cell_type": "code",
   "execution_count": null,
   "id": "4ac9cbe3-5424-4389-b5dc-de5f98320033",
   "metadata": {},
   "outputs": [],
   "source": []
  }
 ],
 "metadata": {
  "kernelspec": {
   "display_name": "Python 3 (ipykernel)",
   "language": "python",
   "name": "python3"
  },
  "language_info": {
   "codemirror_mode": {
    "name": "ipython",
    "version": 3
   },
   "file_extension": ".py",
   "mimetype": "text/x-python",
   "name": "python",
   "nbconvert_exporter": "python",
   "pygments_lexer": "ipython3",
   "version": "3.10.13"
  }
 },
 "nbformat": 4,
 "nbformat_minor": 5
}
